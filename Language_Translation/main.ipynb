{
 "cells": [
  {
   "cell_type": "code",
   "execution_count": 1,
   "metadata": {},
   "outputs": [
    {
     "name": "stderr",
     "output_type": "stream",
     "text": [
      "C:\\Users\\abhis\\AppData\\Local\\Temp\\ipykernel_12560\\3953350672.py:4: DeprecationWarning: \n",
      "Pyarrow will become a required dependency of pandas in the next major release of pandas (pandas 3.0),\n",
      "(to allow more performant data types, such as the Arrow string type, and better interoperability with other libraries)\n",
      "but was not found to be installed on your system.\n",
      "If this would cause problems for you,\n",
      "please provide us feedback at https://github.com/pandas-dev/pandas/issues/54466\n",
      "        \n",
      "  import pandas as pd\n"
     ]
    }
   ],
   "source": [
    "import string\n",
    "import re\n",
    "import numpy as np\n",
    "import pandas as pd\n",
    "import matplotlib.pyplot as plt\n",
    "import tensorflow as tf\n",
    "from keras.models import Sequential, load_model\n",
    "from tensorflow.keras.layers import Dense, LSTM, Embedding, RepeatVector\n",
    "from tensorflow.keras.preprocessing.text import Tokenizer\n",
    "from keras.callbacks import ModelCheckpoint\n",
    "from keras.preprocessing.sequence import pad_sequences\n",
    "from keras import optimizers\n",
    "%matplotlib inline\n"
   ]
  },
  {
   "cell_type": "code",
   "execution_count": 2,
   "metadata": {},
   "outputs": [],
   "source": [
    "df = pd.read_csv('Dataset_English_Hindi.csv')"
   ]
  },
  {
   "cell_type": "code",
   "execution_count": 3,
   "metadata": {},
   "outputs": [
    {
     "data": {
      "text/html": [
       "<div>\n",
       "<style scoped>\n",
       "    .dataframe tbody tr th:only-of-type {\n",
       "        vertical-align: middle;\n",
       "    }\n",
       "\n",
       "    .dataframe tbody tr th {\n",
       "        vertical-align: top;\n",
       "    }\n",
       "\n",
       "    .dataframe thead th {\n",
       "        text-align: right;\n",
       "    }\n",
       "</style>\n",
       "<table border=\"1\" class=\"dataframe\">\n",
       "  <thead>\n",
       "    <tr style=\"text-align: right;\">\n",
       "      <th></th>\n",
       "      <th>English</th>\n",
       "      <th>Hindi</th>\n",
       "    </tr>\n",
       "  </thead>\n",
       "  <tbody>\n",
       "    <tr>\n",
       "      <th>0</th>\n",
       "      <td>Help!</td>\n",
       "      <td>बचाओ!</td>\n",
       "    </tr>\n",
       "    <tr>\n",
       "      <th>1</th>\n",
       "      <td>Jump.</td>\n",
       "      <td>उछलो.</td>\n",
       "    </tr>\n",
       "    <tr>\n",
       "      <th>2</th>\n",
       "      <td>Jump.</td>\n",
       "      <td>कूदो.</td>\n",
       "    </tr>\n",
       "    <tr>\n",
       "      <th>3</th>\n",
       "      <td>Jump.</td>\n",
       "      <td>छलांग.</td>\n",
       "    </tr>\n",
       "    <tr>\n",
       "      <th>4</th>\n",
       "      <td>Hello!</td>\n",
       "      <td>नमस्ते।</td>\n",
       "    </tr>\n",
       "  </tbody>\n",
       "</table>\n",
       "</div>"
      ],
      "text/plain": [
       "  English    Hindi\n",
       "0   Help!    बचाओ!\n",
       "1   Jump.    उछलो.\n",
       "2   Jump.    कूदो.\n",
       "3   Jump.   छलांग.\n",
       "4  Hello!  नमस्ते।"
      ]
     },
     "execution_count": 3,
     "metadata": {},
     "output_type": "execute_result"
    }
   ],
   "source": [
    "df.head()"
   ]
  },
  {
   "cell_type": "code",
   "execution_count": 4,
   "metadata": {},
   "outputs": [],
   "source": [
    "df['English'] = df['English'].astype(str)\n",
    "df['Hindi'] = df['Hindi'].astype(str)\n",
    "def remove_punctuation(text):\n",
    "    return re.sub(r'[^\\w\\s]', '', text)\n",
    "\n",
    "df['English'] = df['English'].apply(remove_punctuation)\n",
    "df['Hindi'] = df['Hindi'].apply(remove_punctuation)"
   ]
  },
  {
   "cell_type": "code",
   "execution_count": 5,
   "metadata": {},
   "outputs": [],
   "source": [
    "def count_words(sentence):\n",
    "    words = sentence.split()\n",
    "    return len(words)\n",
    "\n",
    "sen = \"Why do they not set deadlines for at least cases of vital public interest like the Uphaar cinema case in which more than 50 innocent citizens lost their lives because of the criminal negligence of municipal officials ?\"\n",
    "count_words(sen)\n",
    "\n",
    "max_words = 10\n",
    "\n",
    "df = df[(df['English'].apply(count_words) <= max_words) & (df['Hindi'].apply(count_words) <= max_words)]\n",
    "df = df.sample(50000, random_state=42)"
   ]
  },
  {
   "cell_type": "code",
   "execution_count": 6,
   "metadata": {},
   "outputs": [
    {
     "data": {
      "text/html": [
       "<div>\n",
       "<style scoped>\n",
       "    .dataframe tbody tr th:only-of-type {\n",
       "        vertical-align: middle;\n",
       "    }\n",
       "\n",
       "    .dataframe tbody tr th {\n",
       "        vertical-align: top;\n",
       "    }\n",
       "\n",
       "    .dataframe thead th {\n",
       "        text-align: right;\n",
       "    }\n",
       "</style>\n",
       "<table border=\"1\" class=\"dataframe\">\n",
       "  <thead>\n",
       "    <tr style=\"text-align: right;\">\n",
       "      <th></th>\n",
       "      <th>English</th>\n",
       "      <th>Hindi</th>\n",
       "    </tr>\n",
       "  </thead>\n",
       "  <tbody>\n",
       "    <tr>\n",
       "      <th>100307</th>\n",
       "      <td>at this point in human history</td>\n",
       "      <td>य वकई एक खतरनक भरम ह</td>\n",
       "    </tr>\n",
       "    <tr>\n",
       "      <th>116384</th>\n",
       "      <td>Proteins form nearly onesixth of the whole egg</td>\n",
       "      <td>अणड क लगभग छठ भग परटन ह हत ह</td>\n",
       "    </tr>\n",
       "    <tr>\n",
       "      <th>66684</th>\n",
       "      <td>Thereafter even that avenue was closed</td>\n",
       "      <td>उसक बद वह भ दरवज बद ह गय</td>\n",
       "    </tr>\n",
       "    <tr>\n",
       "      <th>25022</th>\n",
       "      <td>what exactly autism is</td>\n",
       "      <td>क औटसम कय ह</td>\n",
       "    </tr>\n",
       "    <tr>\n",
       "      <th>109207</th>\n",
       "      <td>Shrikhand</td>\n",
       "      <td>शरखड</td>\n",
       "    </tr>\n",
       "  </tbody>\n",
       "</table>\n",
       "</div>"
      ],
      "text/plain": [
       "                                                English  \\\n",
       "100307                   at this point in human history   \n",
       "116384  Proteins form nearly onesixth of the whole egg    \n",
       "66684           Thereafter even that avenue was closed    \n",
       "25022                            what exactly autism is   \n",
       "109207                                        Shrikhand   \n",
       "\n",
       "                                Hindi  \n",
       "100307           य वकई एक खतरनक भरम ह  \n",
       "116384  अणड क लगभग छठ भग परटन ह हत ह   \n",
       "66684       उसक बद वह भ दरवज बद ह गय   \n",
       "25022                     क औटसम कय ह  \n",
       "109207                           शरखड  "
      ]
     },
     "execution_count": 6,
     "metadata": {},
     "output_type": "execute_result"
    }
   ],
   "source": [
    "df.sample(5)"
   ]
  },
  {
   "cell_type": "code",
   "execution_count": 7,
   "metadata": {},
   "outputs": [
    {
     "data": {
      "text/html": [
       "<div>\n",
       "<style scoped>\n",
       "    .dataframe tbody tr th:only-of-type {\n",
       "        vertical-align: middle;\n",
       "    }\n",
       "\n",
       "    .dataframe tbody tr th {\n",
       "        vertical-align: top;\n",
       "    }\n",
       "\n",
       "    .dataframe thead th {\n",
       "        text-align: right;\n",
       "    }\n",
       "</style>\n",
       "<table border=\"1\" class=\"dataframe\">\n",
       "  <thead>\n",
       "    <tr style=\"text-align: right;\">\n",
       "      <th></th>\n",
       "      <th>English</th>\n",
       "      <th>Hindi</th>\n",
       "    </tr>\n",
       "  </thead>\n",
       "  <tbody>\n",
       "    <tr>\n",
       "      <th>96199</th>\n",
       "      <td>2 the country gets political stability</td>\n",
       "      <td>2 दश क रजनतक सथईतव मलत ह</td>\n",
       "    </tr>\n",
       "    <tr>\n",
       "      <th>93355</th>\n",
       "      <td>his sister jodhabai was akbars queen</td>\n",
       "      <td>इनक बहन जधबई अकबर क पटरन थ</td>\n",
       "    </tr>\n",
       "    <tr>\n",
       "      <th>98405</th>\n",
       "      <td>there are some good points to be made here</td>\n",
       "      <td>इन म कछ अचछ तरक भ ह</td>\n",
       "    </tr>\n",
       "    <tr>\n",
       "      <th>63092</th>\n",
       "      <td>intercourse</td>\n",
       "      <td>सतभन</td>\n",
       "    </tr>\n",
       "    <tr>\n",
       "      <th>66879</th>\n",
       "      <td>a single brilliant idea</td>\n",
       "      <td>कछ अचछ यजनओ क</td>\n",
       "    </tr>\n",
       "    <tr>\n",
       "      <th>...</th>\n",
       "      <td>...</td>\n",
       "      <td>...</td>\n",
       "    </tr>\n",
       "    <tr>\n",
       "      <th>28350</th>\n",
       "      <td>and were going to be able to invent brainbased...</td>\n",
       "      <td>और हम दमग प आधरत हसतकषप क आवषकर कर सकग</td>\n",
       "    </tr>\n",
       "    <tr>\n",
       "      <th>77739</th>\n",
       "      <td>pavaktha  news  think portal</td>\n",
       "      <td>परवकत  समचरवचर परटल</td>\n",
       "    </tr>\n",
       "    <tr>\n",
       "      <th>43337</th>\n",
       "      <td>come to empathize with you</td>\n",
       "      <td>आपस सहनभत दखयग</td>\n",
       "    </tr>\n",
       "    <tr>\n",
       "      <th>103367</th>\n",
       "      <td>i had an inkling</td>\n",
       "      <td>मझ हलक स अदश थ</td>\n",
       "    </tr>\n",
       "    <tr>\n",
       "      <th>106941</th>\n",
       "      <td>and we teach anyway</td>\n",
       "      <td>मगर हम फर भ पढत ह</td>\n",
       "    </tr>\n",
       "  </tbody>\n",
       "</table>\n",
       "<p>50000 rows × 2 columns</p>\n",
       "</div>"
      ],
      "text/plain": [
       "                                                  English  \\\n",
       "96199              2 the country gets political stability   \n",
       "93355                his sister jodhabai was akbars queen   \n",
       "98405          there are some good points to be made here   \n",
       "63092                                         intercourse   \n",
       "66879                             a single brilliant idea   \n",
       "...                                                   ...   \n",
       "28350   and were going to be able to invent brainbased...   \n",
       "77739                        pavaktha  news  think portal   \n",
       "43337                          come to empathize with you   \n",
       "103367                                   i had an inkling   \n",
       "106941                                and we teach anyway   \n",
       "\n",
       "                                         Hindi  \n",
       "96199                 2 दश क रजनतक सथईतव मलत ह  \n",
       "93355               इनक बहन जधबई अकबर क पटरन थ  \n",
       "98405                      इन म कछ अचछ तरक भ ह  \n",
       "63092                                     सतभन  \n",
       "66879                            कछ अचछ यजनओ क  \n",
       "...                                        ...  \n",
       "28350   और हम दमग प आधरत हसतकषप क आवषकर कर सकग  \n",
       "77739                      परवकत  समचरवचर परटल  \n",
       "43337                          आपस सहनभत दखयग   \n",
       "103367                          मझ हलक स अदश थ  \n",
       "106941                       मगर हम फर भ पढत ह  \n",
       "\n",
       "[50000 rows x 2 columns]"
      ]
     },
     "execution_count": 7,
     "metadata": {},
     "output_type": "execute_result"
    }
   ],
   "source": [
    "df['English'] = df['English'].str.lower()\n",
    "df"
   ]
  },
  {
   "cell_type": "code",
   "execution_count": 8,
   "metadata": {},
   "outputs": [
    {
     "data": {
      "text/plain": [
       "23362"
      ]
     },
     "execution_count": 8,
     "metadata": {},
     "output_type": "execute_result"
    }
   ],
   "source": [
    "tokenizer_eng = Tokenizer()\n",
    "tokenizer_eng.fit_on_texts(df['English'])\n",
    "eng_len = len(tokenizer_eng.word_index)+1\n",
    "tokenizer_hin = Tokenizer()\n",
    "tokenizer_hin.fit_on_texts(df['Hindi'])\n",
    "hin_len = len(tokenizer_hin.word_index)+1\n",
    "eng_len\n"
   ]
  },
  {
   "cell_type": "code",
   "execution_count": 9,
   "metadata": {},
   "outputs": [
    {
     "data": {
      "text/html": [
       "<div>\n",
       "<style scoped>\n",
       "    .dataframe tbody tr th:only-of-type {\n",
       "        vertical-align: middle;\n",
       "    }\n",
       "\n",
       "    .dataframe tbody tr th {\n",
       "        vertical-align: top;\n",
       "    }\n",
       "\n",
       "    .dataframe thead th {\n",
       "        text-align: right;\n",
       "    }\n",
       "</style>\n",
       "<table border=\"1\" class=\"dataframe\">\n",
       "  <thead>\n",
       "    <tr style=\"text-align: right;\">\n",
       "      <th></th>\n",
       "      <th>English</th>\n",
       "      <th>Hindi</th>\n",
       "    </tr>\n",
       "  </thead>\n",
       "  <tbody>\n",
       "    <tr>\n",
       "      <th>0</th>\n",
       "      <td>for anyone to learn from their mistakes</td>\n",
       "      <td>कस क लए अपन गलतय स सखन</td>\n",
       "    </tr>\n",
       "    <tr>\n",
       "      <th>1</th>\n",
       "      <td>53 of agras population is male  47 are females</td>\n",
       "      <td>आगर क जनसखय क ५३ परष और ४७ महलए ह</td>\n",
       "    </tr>\n",
       "    <tr>\n",
       "      <th>2</th>\n",
       "      <td>bringing them to the real world</td>\n",
       "      <td>और वसतवक दनय म एक सथ लकर आय</td>\n",
       "    </tr>\n",
       "    <tr>\n",
       "      <th>3</th>\n",
       "      <td>art is not supposed to change the world</td>\n",
       "      <td>कल क कम दनय क बदलन नह ह</td>\n",
       "    </tr>\n",
       "    <tr>\n",
       "      <th>4</th>\n",
       "      <td>daily awakening</td>\n",
       "      <td>दनक जगरण यनकडत</td>\n",
       "    </tr>\n",
       "    <tr>\n",
       "      <th>...</th>\n",
       "      <td>...</td>\n",
       "      <td>...</td>\n",
       "    </tr>\n",
       "    <tr>\n",
       "      <th>39995</th>\n",
       "      <td>heres kallikuppam</td>\n",
       "      <td>यह Kallikuppam ह</td>\n",
       "    </tr>\n",
       "    <tr>\n",
       "      <th>39996</th>\n",
       "      <td>and youll see on the vertical</td>\n",
       "      <td>और हम ऊरधवधर पर दखग</td>\n",
       "    </tr>\n",
       "    <tr>\n",
       "      <th>39997</th>\n",
       "      <td>theyve begun to walk</td>\n",
       "      <td>उनहन चलन शर कय ह</td>\n",
       "    </tr>\n",
       "    <tr>\n",
       "      <th>39998</th>\n",
       "      <td>depending on the places i would go</td>\n",
       "      <td>हम जह ज रह ह उसक हसब स</td>\n",
       "    </tr>\n",
       "    <tr>\n",
       "      <th>39999</th>\n",
       "      <td>stepped towards the favour of india</td>\n",
       "      <td>क भरत म अनकलन हत कदम बढय</td>\n",
       "    </tr>\n",
       "  </tbody>\n",
       "</table>\n",
       "<p>40000 rows × 2 columns</p>\n",
       "</div>"
      ],
      "text/plain": [
       "                                              English  \\\n",
       "0             for anyone to learn from their mistakes   \n",
       "1      53 of agras population is male  47 are females   \n",
       "2                     bringing them to the real world   \n",
       "3             art is not supposed to change the world   \n",
       "4                                     daily awakening   \n",
       "...                                               ...   \n",
       "39995                               heres kallikuppam   \n",
       "39996                   and youll see on the vertical   \n",
       "39997                            theyve begun to walk   \n",
       "39998             depending on the places i would go    \n",
       "39999             stepped towards the favour of india   \n",
       "\n",
       "                                   Hindi  \n",
       "0                 कस क लए अपन गलतय स सखन  \n",
       "1      आगर क जनसखय क ५३ परष और ४७ महलए ह  \n",
       "2            और वसतवक दनय म एक सथ लकर आय  \n",
       "3                कल क कम दनय क बदलन नह ह  \n",
       "4                         दनक जगरण यनकडत  \n",
       "...                                  ...  \n",
       "39995                   यह Kallikuppam ह  \n",
       "39996                और हम ऊरधवधर पर दखग  \n",
       "39997                   उनहन चलन शर कय ह  \n",
       "39998            हम जह ज रह ह उसक हसब स   \n",
       "39999           क भरत म अनकलन हत कदम बढय  \n",
       "\n",
       "[40000 rows x 2 columns]"
      ]
     },
     "execution_count": 9,
     "metadata": {},
     "output_type": "execute_result"
    }
   ],
   "source": [
    "from sklearn.model_selection import train_test_split\n",
    "\n",
    "train, test = train_test_split(df, test_size=0.2, random_state=42)\n",
    "train = train.reset_index(0).drop(['index'], axis=1)\n",
    "test = test.reset_index(0).drop(['index'], axis=1)\n",
    "train\n"
   ]
  },
  {
   "cell_type": "code",
   "execution_count": 10,
   "metadata": {},
   "outputs": [],
   "source": [
    "def encode_sequence(tokenizer, len, lines):\n",
    "    seq = tokenizer.texts_to_sequences(lines)\n",
    "    seq = pad_sequences(seq, maxlen=len,padding='post')\n",
    "    return seq\n",
    "\n",
    "\n",
    "X_train = encode_sequence(tokenizer_eng,30,train['English'])\n",
    "y_train = encode_sequence(tokenizer_hin,30,train['Hindi'])\n",
    "X_test = encode_sequence(tokenizer_eng,30,test['English'])\n",
    "y_test = encode_sequence(tokenizer_hin,30,test['Hindi'])\n"
   ]
  },
  {
   "cell_type": "code",
   "execution_count": 11,
   "metadata": {},
   "outputs": [
    {
     "data": {
      "text/plain": [
       "array([[  16,  943,    4, ...,    0,    0,    0],\n",
       "       [2718,    2, 5840, ...,    0,    0,    0],\n",
       "       [1619,   54,    4, ...,    0,    0,    0],\n",
       "       ...,\n",
       "       [1500, 3369,    4, ...,    0,    0,    0],\n",
       "       [3200,   17,    1, ...,    0,    0,    0],\n",
       "       [5032,  713,    1, ...,    0,    0,    0]])"
      ]
     },
     "execution_count": 11,
     "metadata": {},
     "output_type": "execute_result"
    }
   ],
   "source": [
    "X_train"
   ]
  },
  {
   "cell_type": "code",
   "execution_count": 12,
   "metadata": {},
   "outputs": [],
   "source": [
    "def seq2seq(in_vocab, out_vocab, in_timesteps, out_timesteps, units):\n",
    "    model = Sequential()\n",
    "    model.add(Embedding(in_vocab, units, mask_zero= True))\n",
    "    model.add(LSTM(units,return_sequences=False))\n",
    "    model.add(RepeatVector(out_timesteps))\n",
    "    model.add(LSTM(units,return_sequences=True))\n",
    "    model.add(Dense(out_vocab,activation='softmax'))\n",
    "    return model"
   ]
  },
  {
   "cell_type": "code",
   "execution_count": 13,
   "metadata": {},
   "outputs": [],
   "source": [
    "model = seq2seq(eng_len, hin_len, 8, 8, 512)\n",
    "rms = optimizers.RMSprop(learning_rate= 0.001)\n",
    "model.compile(optimizer = rms, loss = 'sparse_categorical_crossentropy')"
   ]
  },
  {
   "cell_type": "code",
   "execution_count": 14,
   "metadata": {},
   "outputs": [
    {
     "data": {
      "text/plain": [
       "array([[ 39,   1,  25, ...,   0,   0,   0],\n",
       "       [559,   1, 657, ...,   0,   0,   0],\n",
       "       [  4, 601, 117, ...,   0,   0,   0],\n",
       "       ...,\n",
       "       [ 85, 441, 113, ...,   0,   0,   0],\n",
       "       [ 14, 152,  17, ...,   0,   0,   0],\n",
       "       [  1,  59,   3, ...,   0,   0,   0]])"
      ]
     },
     "execution_count": 14,
     "metadata": {},
     "output_type": "execute_result"
    }
   ],
   "source": [
    "y_train"
   ]
  },
  {
   "cell_type": "code",
   "execution_count": 15,
   "metadata": {},
   "outputs": [
    {
     "name": "stdout",
     "output_type": "stream",
     "text": [
      "Unexpected exception formatting exception. Falling back to standard exception\n"
     ]
    },
    {
     "name": "stderr",
     "output_type": "stream",
     "text": [
      "Traceback (most recent call last):\n",
      "  File \"C:\\Users\\abhis\\AppData\\Roaming\\Python\\Python312\\site-packages\\IPython\\core\\interactiveshell.py\", line 3577, in run_code\n",
      "    exec(code_obj, self.user_global_ns, self.user_ns)\n",
      "  File \"C:\\Users\\abhis\\AppData\\Local\\Temp\\ipykernel_12560\\2689835177.py\", line 1, in <module>\n",
      "    model.fit(X_train,y_train,epoches = 10, batch_size= 256,validation_split = 0.2)\n",
      "  File \"C:\\Users\\abhis\\AppData\\Roaming\\Python\\Python312\\site-packages\\keras\\src\\utils\\traceback_utils.py\", line 122, in error_handler\n",
      "    raise e.with_traceback(filtered_tb) from None\n",
      "  File \"C:\\Users\\abhis\\AppData\\Roaming\\Python\\Python312\\site-packages\\keras\\src\\utils\\traceback_utils.py\", line 119, in error_handler\n",
      "    filtered_tb = _process_traceback_frames(e.__traceback__)\n",
      "                  ^^^^^^^^^^^^^^^^^^^^^^^^^^^^^^^^^^^^^^^^^^\n",
      "TypeError: TensorFlowTrainer.fit() got an unexpected keyword argument 'epoches'\n",
      "\n",
      "During handling of the above exception, another exception occurred:\n",
      "\n",
      "Traceback (most recent call last):\n",
      "  File \"C:\\Users\\abhis\\AppData\\Roaming\\Python\\Python312\\site-packages\\IPython\\core\\interactiveshell.py\", line 2168, in showtraceback\n",
      "    stb = self.InteractiveTB.structured_traceback(\n",
      "          ^^^^^^^^^^^^^^^^^^^^^^^^^^^^^^^^^^^^^^^^\n",
      "  File \"C:\\Users\\abhis\\AppData\\Roaming\\Python\\Python312\\site-packages\\IPython\\core\\ultratb.py\", line 1454, in structured_traceback\n",
      "    return FormattedTB.structured_traceback(\n",
      "           ^^^^^^^^^^^^^^^^^^^^^^^^^^^^^^^^^\n",
      "  File \"C:\\Users\\abhis\\AppData\\Roaming\\Python\\Python312\\site-packages\\IPython\\core\\ultratb.py\", line 1345, in structured_traceback\n",
      "    return VerboseTB.structured_traceback(\n",
      "           ^^^^^^^^^^^^^^^^^^^^^^^^^^^^^^^\n",
      "  File \"C:\\Users\\abhis\\AppData\\Roaming\\Python\\Python312\\site-packages\\IPython\\core\\ultratb.py\", line 1192, in structured_traceback\n",
      "    formatted_exception = self.format_exception_as_a_whole(etype, evalue, etb, number_of_lines_of_context,\n",
      "                          ^^^^^^^^^^^^^^^^^^^^^^^^^^^^^^^^^^^^^^^^^^^^^^^^^^^^^^^^^^^^^^^^^^^^^^^^^^^^^^^^\n",
      "  File \"C:\\Users\\abhis\\AppData\\Roaming\\Python\\Python312\\site-packages\\IPython\\core\\ultratb.py\", line 1082, in format_exception_as_a_whole\n",
      "    self.get_records(etb, number_of_lines_of_context, tb_offset) if etb else []\n",
      "    ^^^^^^^^^^^^^^^^^^^^^^^^^^^^^^^^^^^^^^^^^^^^^^^^^^^^^^^^^^^^\n",
      "  File \"C:\\Users\\abhis\\AppData\\Roaming\\Python\\Python312\\site-packages\\IPython\\core\\ultratb.py\", line 1179, in get_records\n",
      "    res = list(stack_data.FrameInfo.stack_data(etb, options=options))[tb_offset:]\n",
      "          ^^^^^^^^^^^^^^^^^^^^^^^^^^^^^^^^^^^^^^^^^^^^^^^^^^^^^^^^^^^\n",
      "  File \"C:\\Users\\abhis\\AppData\\Roaming\\Python\\Python312\\site-packages\\stack_data\\core.py\", line 597, in stack_data\n",
      "    yield from collapse_repeated(\n",
      "  File \"C:\\Users\\abhis\\AppData\\Roaming\\Python\\Python312\\site-packages\\stack_data\\utils.py\", line 83, in collapse_repeated\n",
      "    yield from map(mapper, original_group)\n",
      "  File \"C:\\Users\\abhis\\AppData\\Roaming\\Python\\Python312\\site-packages\\stack_data\\core.py\", line 587, in mapper\n",
      "    return cls(f, options)\n",
      "           ^^^^^^^^^^^^^^^\n",
      "  File \"C:\\Users\\abhis\\AppData\\Roaming\\Python\\Python312\\site-packages\\stack_data\\core.py\", line 551, in __init__\n",
      "    self.executing = Source.executing(frame_or_tb)\n",
      "                     ^^^^^^^^^^^^^^^^^^^^^^^^^^^^^\n",
      "  File \"C:\\Users\\abhis\\AppData\\Roaming\\Python\\Python312\\site-packages\\executing\\executing.py\", line 283, in executing\n",
      "    assert_(new_stmts <= stmts)\n",
      "  File \"C:\\Users\\abhis\\AppData\\Roaming\\Python\\Python312\\site-packages\\executing\\executing.py\", line 80, in assert_\n",
      "    raise AssertionError(str(message))\n",
      "AssertionError\n"
     ]
    }
   ],
   "source": [
    "model.fit(X_train,y_train,epoches = 10, batch_size= 256,validation_split = 0.2)"
   ]
  },
  {
   "cell_type": "code",
   "execution_count": null,
   "metadata": {},
   "outputs": [],
   "source": []
  },
  {
   "cell_type": "code",
   "execution_count": null,
   "metadata": {},
   "outputs": [],
   "source": []
  },
  {
   "cell_type": "code",
   "execution_count": null,
   "metadata": {},
   "outputs": [],
   "source": []
  },
  {
   "cell_type": "code",
   "execution_count": null,
   "metadata": {},
   "outputs": [],
   "source": []
  },
  {
   "cell_type": "code",
   "execution_count": null,
   "metadata": {},
   "outputs": [],
   "source": []
  }
 ],
 "metadata": {
  "kernelspec": {
   "display_name": "Python 3",
   "language": "python",
   "name": "python3"
  },
  "language_info": {
   "codemirror_mode": {
    "name": "ipython",
    "version": 3
   },
   "file_extension": ".py",
   "mimetype": "text/x-python",
   "name": "python",
   "nbconvert_exporter": "python",
   "pygments_lexer": "ipython3",
   "version": "3.12.2"
  }
 },
 "nbformat": 4,
 "nbformat_minor": 2
}
